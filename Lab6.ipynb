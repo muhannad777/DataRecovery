{
 "cells": [
  {
   "cell_type": "code",
   "execution_count": 1,
   "id": "edfcfcb0",
   "metadata": {},
   "outputs": [
    {
     "name": "stderr",
     "output_type": "stream",
     "text": [
      "[nltk_data] Downloading package stopwords to\n",
      "[nltk_data]     C:\\Users\\Nawal\\AppData\\Roaming\\nltk_data...\n",
      "[nltk_data]   Package stopwords is already up-to-date!\n",
      "[nltk_data] Downloading package punkt to\n",
      "[nltk_data]     C:\\Users\\Nawal\\AppData\\Roaming\\nltk_data...\n",
      "[nltk_data]   Package punkt is already up-to-date!\n"
     ]
    },
    {
     "data": {
      "text/plain": [
       "True"
      ]
     },
     "execution_count": 1,
     "metadata": {},
     "output_type": "execute_result"
    }
   ],
   "source": [
    "import pandas as pd \n",
    "import numpy as np \n",
    "import nltk \n",
    "nltk.download('stopwords') \n",
    "nltk.download('punkt')"
   ]
  },
  {
   "cell_type": "code",
   "execution_count": 2,
   "id": "94e6a455",
   "metadata": {},
   "outputs": [],
   "source": [
    "from nltk.corpus import stopwords \n",
    "from nltk.tokenize import word_tokenize \n",
    "from nltk.stem import PorterStemmer \n",
    "import os \n",
    "import string \n",
    "import copy \n",
    "import pickle"
   ]
  },
  {
   "cell_type": "code",
   "execution_count": 4,
   "id": "34469bf5",
   "metadata": {},
   "outputs": [
    {
     "name": "stdout",
     "output_type": "stream",
     "text": [
      "C:\\Users\\Nawal\\Desktop\\recovery\\20_newsgroups\\alt.atheism\n"
     ]
    }
   ],
   "source": [
    "os.chdir(\"C:/Users/Nawal/Desktop/recovery/20_newsgroups\") \n",
    "paths = [] \n",
    "for (dirpath, dirnames, filenames) in os.walk(str(os.getcwd())): \n",
    "    for i in filenames:\n",
    "        paths.append(str(dirpath)+str(\"/\")+i)  \n",
    "\n",
    "print(dirpath)"
   ]
  },
  {
   "cell_type": "code",
   "execution_count": 5,
   "id": "fa053b12",
   "metadata": {},
   "outputs": [
    {
     "data": {
      "text/plain": [
       "'C:\\\\Users\\\\Nawal\\\\Desktop\\\\recovery\\\\20_newsgroups\\\\alt.atheism/49960'"
      ]
     },
     "execution_count": 5,
     "metadata": {},
     "output_type": "execute_result"
    }
   ],
   "source": [
    "paths[0]"
   ]
  },
  {
   "cell_type": "code",
   "execution_count": 6,
   "id": "379d142e",
   "metadata": {},
   "outputs": [],
   "source": [
    "def remove_stop_words(data): \n",
    "    stop_words = stopwords.words('english') \n",
    "    words = word_tokenize(str(data)) \n",
    "    new_text = \"\" \n",
    "    for w in words: \n",
    "        if w not in stop_words: \n",
    "            new_text = new_text + \" \" + w \n",
    "    return np.char.strip(new_text)"
   ]
  },
  {
   "cell_type": "code",
   "execution_count": 7,
   "id": "fce08bac",
   "metadata": {},
   "outputs": [],
   "source": [
    "def remove_punctuation(data): \n",
    "    symbols = \"!\\\"#$%&()*+-./:;<=>?@[\\]^_`{|}~\\n\" \n",
    "    for i in range(len(symbols)): \n",
    "        data = np.char.replace(data, symbols[i], ' ') \n",
    "        data = np.char.replace(data, \"  \", \" \") \n",
    "    data = np.char.replace(data, ',', '') \n",
    "    return data"
   ]
  },
  {
   "cell_type": "code",
   "execution_count": 8,
   "id": "152b6a31",
   "metadata": {},
   "outputs": [],
   "source": [
    "def convert_lower_case(data): \n",
    "    return np.char.lower(data)\n",
    "\n",
    "def stemming(data): \n",
    "    stemmer= PorterStemmer() \n",
    "     \n",
    "    tokens = word_tokenize(str(data)) \n",
    "    new_text = \"\" \n",
    "    for w in tokens: \n",
    "        new_text = new_text + \" \" + stemmer.stem(w) \n",
    "    return np.char.strip(new_text) "
   ]
  },
  {
   "cell_type": "code",
   "execution_count": 9,
   "id": "e341702c",
   "metadata": {},
   "outputs": [],
   "source": [
    "def convert_numbers(data): \n",
    "    data = np.char.replace(data, \"0\", \" zero \") \n",
    "    data = np.char.replace(data, \"1\", \" one \") \n",
    "    data = np.char.replace(data, \"2\", \" two \") \n",
    "    data = np.char.replace(data, \"3\", \" three \") \n",
    "    data = np.char.replace(data, \"4\", \" four \") \n",
    "    data = np.char.replace(data, \"5\", \" five \") \n",
    "    data = np.char.replace(data, \"6\", \" six \") \n",
    "    data = np.char.replace(data, \"7\", \" seven \") \n",
    "    data = np.char.replace(data, \"8\", \" eight \") \n",
    "    data = np.char.replace(data, \"9\", \" nine \") \n",
    "    return data\n",
    "\n",
    "def remove_header(data): \n",
    "    try: \n",
    "        ind = data.index('\\n\\n') \n",
    "        data = data[ind:] \n",
    "    except: \n",
    "        print(\"No Header\") \n",
    "    return data \n",
    "\n",
    "def remove_apostrophe(data): \n",
    "    return np.char.replace(data, \"'\", \"\")\n",
    "\n",
    "def remove_single_characters(data): \n",
    "    words = word_tokenize(str(data)) \n",
    "    new_text = \"\" \n",
    "    for w in words: \n",
    "        if len(w) > 1: \n",
    "            new_text = new_text + \" \" + w \n",
    "    return np.char.strip(new_text)"
   ]
  },
  {
   "cell_type": "code",
   "execution_count": 10,
   "id": "55ef0dd4",
   "metadata": {},
   "outputs": [],
   "source": [
    "def preprocess(data, query): \n",
    "    if not query: \n",
    "        data = remove_header(data) \n",
    "        data = convert_lower_case(data)\n",
    "        data = convert_numbers(data) \n",
    "        data = remove_punctuation(data)\n",
    "        data = remove_stop_words(data)\n",
    "        data = remove_apostrophe(data)\n",
    "        data = remove_single_characters(data)\n",
    "        data = stemming(data)\n",
    "     \n",
    "    return data"
   ]
  },
  {
   "cell_type": "code",
   "execution_count": 11,
   "id": "0c6a1cee",
   "metadata": {},
   "outputs": [
    {
     "name": "stdout",
     "output_type": "stream",
     "text": [
      "0\n",
      "100\n",
      "200\n",
      "300\n",
      "400\n",
      "500\n",
      "600\n",
      "700\n",
      "800\n",
      "No Header\n",
      "900\n"
     ]
    }
   ],
   "source": [
    "doc = 0 \n",
    "postings = pd.DataFrame() \n",
    " \n",
    "for path in paths: \n",
    "    file = open(path, 'r', encoding='cp1250') \n",
    "    text = file.read().strip() \n",
    "    file.close() \n",
    "    preprocessed_text = preprocess(text, False) \n",
    "     \n",
    "    if doc%100 == 0: \n",
    "        print(doc) \n",
    " \n",
    "    tokens = word_tokenize(str(preprocessed_text)) \n",
    "    for token in tokens: \n",
    "        if token in postings: \n",
    "            p = postings[token][0] \n",
    "            p.add(doc) \n",
    "            postings[token][0] = p \n",
    "            \n",
    "        else: \n",
    "            postings.insert(value=[{doc}], loc=0, column=token) \n",
    "    doc += 1 "
   ]
  },
  {
   "cell_type": "code",
   "execution_count": 12,
   "id": "04c4dcbd",
   "metadata": {},
   "outputs": [
    {
     "data": {
      "text/html": [
       "<div>\n",
       "<style scoped>\n",
       "    .dataframe tbody tr th:only-of-type {\n",
       "        vertical-align: middle;\n",
       "    }\n",
       "\n",
       "    .dataframe tbody tr th {\n",
       "        vertical-align: top;\n",
       "    }\n",
       "\n",
       "    .dataframe thead th {\n",
       "        text-align: right;\n",
       "    }\n",
       "</style>\n",
       "<table border=\"1\" class=\"dataframe\">\n",
       "  <thead>\n",
       "    <tr style=\"text-align: right;\">\n",
       "      <th></th>\n",
       "      <th>kneel</th>\n",
       "      <th>hinduism</th>\n",
       "      <th>revert</th>\n",
       "      <th>infur</th>\n",
       "      <th>amok</th>\n",
       "      <th>trembl</th>\n",
       "      <th>portray</th>\n",
       "      <th>ingersol</th>\n",
       "      <th>mencken</th>\n",
       "      <th>voltair</th>\n",
       "      <th>...</th>\n",
       "      <th>nine</th>\n",
       "      <th>decemb</th>\n",
       "      <th>one</th>\n",
       "      <th>modifi</th>\n",
       "      <th>last</th>\n",
       "      <th>alt</th>\n",
       "      <th>resourc</th>\n",
       "      <th>atheism</th>\n",
       "      <th>name</th>\n",
       "      <th>archiv</th>\n",
       "    </tr>\n",
       "  </thead>\n",
       "  <tbody>\n",
       "    <tr>\n",
       "      <th>0</th>\n",
       "      <td>{999}</td>\n",
       "      <td>{999}</td>\n",
       "      <td>{999}</td>\n",
       "      <td>{999}</td>\n",
       "      <td>{999}</td>\n",
       "      <td>{999}</td>\n",
       "      <td>{999}</td>\n",
       "      <td>{999}</td>\n",
       "      <td>{999}</td>\n",
       "      <td>{999}</td>\n",
       "      <td>...</td>\n",
       "      <td>{0, 1, 2, 4, 5, 17, 18, 19, 22, 24, 27, 29, 30...</td>\n",
       "      <td>{0, 656, 640}</td>\n",
       "      <td>{0, 1, 2, 3, 4, 5, 7, 8, 13, 14, 16, 17, 18, 1...</td>\n",
       "      <td>{0, 1, 414, 867, 900, 901, 713, 490, 203, 204,...</td>\n",
       "      <td>{0, 1, 772, 900, 901, 263, 264, 391, 647, 145,...</td>\n",
       "      <td>{0, 1, 129, 130, 900, 901, 134, 135, 137, 139,...</td>\n",
       "      <td>{0, 98, 900, 901, 203, 205, 847, 976, 821, 662...</td>\n",
       "      <td>{0, 1, 5, 6, 517, 532, 538, 29, 542, 36, 37, 4...</td>\n",
       "      <td>{0, 1, 512, 7, 524, 34, 36, 555, 559, 561, 50,...</td>\n",
       "      <td>{0, 1, 900, 901, 203, 204, 205, 670}</td>\n",
       "    </tr>\n",
       "  </tbody>\n",
       "</table>\n",
       "<p>1 rows × 10349 columns</p>\n",
       "</div>"
      ],
      "text/plain": [
       "   kneel hinduism revert  infur   amok trembl portray ingersol mencken  \\\n",
       "0  {999}    {999}  {999}  {999}  {999}  {999}   {999}    {999}   {999}   \n",
       "\n",
       "  voltair  ...                                               nine  \\\n",
       "0   {999}  ...  {0, 1, 2, 4, 5, 17, 18, 19, 22, 24, 27, 29, 30...   \n",
       "\n",
       "          decemb                                                one  \\\n",
       "0  {0, 656, 640}  {0, 1, 2, 3, 4, 5, 7, 8, 13, 14, 16, 17, 18, 1...   \n",
       "\n",
       "                                              modifi  \\\n",
       "0  {0, 1, 414, 867, 900, 901, 713, 490, 203, 204,...   \n",
       "\n",
       "                                                last  \\\n",
       "0  {0, 1, 772, 900, 901, 263, 264, 391, 647, 145,...   \n",
       "\n",
       "                                                 alt  \\\n",
       "0  {0, 1, 129, 130, 900, 901, 134, 135, 137, 139,...   \n",
       "\n",
       "                                             resourc  \\\n",
       "0  {0, 98, 900, 901, 203, 205, 847, 976, 821, 662...   \n",
       "\n",
       "                                             atheism  \\\n",
       "0  {0, 1, 5, 6, 517, 532, 538, 29, 542, 36, 37, 4...   \n",
       "\n",
       "                                                name  \\\n",
       "0  {0, 1, 512, 7, 524, 34, 36, 555, 559, 561, 50,...   \n",
       "\n",
       "                                 archiv  \n",
       "0  {0, 1, 900, 901, 203, 204, 205, 670}  \n",
       "\n",
       "[1 rows x 10349 columns]"
      ]
     },
     "execution_count": 12,
     "metadata": {},
     "output_type": "execute_result"
    }
   ],
   "source": [
    "postings"
   ]
  },
  {
   "cell_type": "code",
   "execution_count": 16,
   "id": "1a7c2b9f",
   "metadata": {},
   "outputs": [
    {
     "name": "stdout",
     "output_type": "stream",
     "text": [
      "nine\n",
      "Frequency: 526\n",
      "Postings List: {0, 1, 2, 4, 5, 17, 18, 19, 22, 24, 27, 29, 30, 31, 34, 36, 37, 40, 42, 44, 46, 47, 48, 53, 56, 57, 58, 59, 62, 63, 64, 65, 66, 67, 68, 70, 72, 73, 74, 75, 78, 79, 80, 81, 82, 83, 84, 85, 86, 87, 90, 91, 92, 93, 94, 95, 96, 99, 100, 102, 103, 105, 108, 111, 112, 113, 121, 122, 126, 134, 135, 137, 139, 140, 141, 142, 143, 145, 146, 154, 158, 160, 161, 162, 163, 164, 167, 168, 169, 170, 174, 175, 177, 178, 179, 180, 181, 183, 186, 196, 200, 201, 202, 203, 204, 205, 206, 208, 213, 215, 217, 218, 222, 224, 225, 228, 229, 230, 233, 234, 237, 239, 240, 241, 242, 244, 247, 250, 255, 259, 262, 263, 264, 265, 268, 269, 270, 271, 273, 275, 276, 277, 281, 282, 283, 284, 285, 286, 287, 288, 289, 290, 299, 301, 302, 306, 315, 316, 317, 319, 320, 321, 322, 327, 328, 329, 333, 334, 335, 336, 348, 350, 354, 356, 357, 358, 359, 363, 364, 365, 370, 374, 378, 382, 383, 384, 385, 387, 388, 391, 392, 393, 394, 397, 398, 399, 400, 402, 403, 404, 405, 406, 408, 410, 411, 413, 414, 417, 420, 422, 423, 426, 427, 429, 430, 431, 434, 437, 438, 439, 441, 443, 450, 451, 452, 456, 459, 460, 461, 462, 463, 467, 468, 470, 471, 474, 475, 476, 477, 480, 483, 484, 488, 489, 490, 491, 492, 493, 497, 498, 500, 501, 503, 511, 513, 514, 516, 517, 518, 519, 520, 521, 523, 524, 525, 526, 527, 528, 532, 534, 535, 537, 540, 544, 546, 547, 548, 549, 551, 552, 553, 554, 555, 556, 557, 558, 560, 562, 563, 564, 565, 566, 568, 569, 570, 571, 575, 576, 577, 578, 579, 589, 595, 597, 598, 600, 602, 605, 607, 608, 609, 610, 611, 612, 617, 619, 620, 622, 624, 628, 629, 630, 634, 635, 637, 640, 641, 642, 643, 644, 645, 646, 647, 648, 650, 651, 652, 653, 655, 656, 659, 661, 663, 666, 667, 668, 669, 670, 671, 673, 674, 677, 681, 683, 684, 688, 689, 690, 691, 693, 694, 695, 698, 699, 700, 702, 707, 708, 709, 710, 711, 712, 714, 716, 718, 719, 722, 724, 725, 727, 730, 732, 734, 735, 736, 737, 740, 743, 745, 747, 749, 755, 756, 757, 758, 761, 762, 763, 765, 766, 768, 769, 773, 774, 775, 776, 777, 779, 780, 783, 784, 785, 786, 788, 791, 793, 795, 797, 800, 801, 802, 804, 805, 806, 807, 809, 810, 811, 813, 814, 815, 816, 826, 829, 830, 832, 833, 834, 835, 836, 837, 840, 842, 849, 851, 852, 854, 856, 858, 862, 864, 865, 867, 869, 871, 873, 874, 876, 878, 881, 882, 885, 887, 888, 889, 890, 891, 892, 896, 898, 899, 900, 901, 902, 904, 905, 906, 907, 908, 909, 910, 911, 912, 913, 914, 916, 917, 918, 925, 926, 927, 928, 930, 931, 932, 933, 936, 939, 940, 941, 942, 947, 949, 950, 954, 955, 959, 960, 962, 963, 964, 974, 976, 977, 980, 981, 985, 987, 989, 991, 992, 994, 995, 997, 998, 999}\n"
     ]
    }
   ],
   "source": [
    "def get_word_postings(word):\n",
    "    preprocessed_word = str(preprocess(word, True))\n",
    "    print(preprocessed_word)\n",
    "    print(\"Frequency:\",len(postings[preprocessed_word][0]))\n",
    "    print(\"Postings List:\",postings[preprocessed_word][0])\n",
    "    \n",
    "get_word_postings(\"nine\")"
   ]
  },
  {
   "cell_type": "code",
   "execution_count": 18,
   "id": "b3d0451c",
   "metadata": {},
   "outputs": [],
   "source": [
    "def  generate_command_tokens(query):\n",
    "    query = query.lower()\n",
    "    tokens = word_tokenize(query)\n",
    "    \n",
    "    commands = []\n",
    "    query_words = []\n",
    "    \n",
    "    for t in tokens:\n",
    "        if t not in ['and', 'or', 'not']:\n",
    "            processed_word = preprocess([t], True)\n",
    "            print(str(processed_word))\n",
    "            query_words.append(str(processed_word))\n",
    "        else:\n",
    "            commands.append(t)\n",
    "            \n",
    "    return commands, query_words"
   ]
  },
  {
   "cell_type": "code",
   "execution_count": 35,
   "id": "d99cbf0f",
   "metadata": {},
   "outputs": [],
   "source": [
    "def gen_not_tuple(query_words, commands):\n",
    "\n",
    "    tup = []\n",
    "\n",
    "    while 'not' in commands:\n",
    "\n",
    "        i = commands.index('not')\n",
    "\n",
    "        word = query_words[i]\n",
    "\n",
    "        word_postings = get_not(word)\n",
    "\n",
    "        tup.append(word_postings)\n",
    "\n",
    "        commands.pop(i)\n",
    "\n",
    "        query_words[i] = i\n",
    "\n",
    "        print('\\nAfter Not Processing:', commands, query_words)\n",
    "\n",
    "    return tup\n",
    "\n",
    "\n",
    "def binary_operations(query_words, commands, tup):\n",
    "\n",
    "    a = postings[query_words[0]][0]\n",
    "\n",
    "    query_words.pop(0)\n",
    "\n",
    "    for i in range(len(commands)):\n",
    "\n",
    "        if type(query_words[i]) == int:\n",
    "            b = tup.pop(0)\n",
    "        else:\n",
    "            b = postings[query_words[i]][0]\n",
    "\n",
    "        if commands[i] == 'and':\n",
    "            a = a.intersection(b)\n",
    "        elif commands[i] == 'or':\n",
    "            a = a.union(b)\n",
    "        else:\n",
    "            print('Invalid Command')\n",
    "\n",
    "    return a\n",
    "\n",
    "\n",
    "def execute_query(query):\n",
    "\n",
    "    (commands, query_words) = generate_command_tokens(query)\n",
    "    tup = gen_not_tuple(query_words, commands)\n",
    "\n",
    "    print('\\nCommands:', commands)\n",
    "\n",
    "    print('\\nQuery Words:', query_words)\n",
    "\n",
    "    print('\\nTup:', len(tup))\n",
    "\n",
    "    final_set = binary_operations(query_words, commands, tup)\n",
    "\n",
    "    print('\\nFinal Set:', final_set)\n",
    "    \n",
    "    return final_set\n",
    "\n",
    "\n",
    "def print_file(file):\n",
    "\n",
    "    out_file = open(paths[file], 'r', encoding='cp1250')\n",
    "\n",
    "    out_text = out_file.read()\n",
    "\n",
    "    print(out_text)\n",
    "    \n"
   ]
  },
  {
   "cell_type": "code",
   "execution_count": 36,
   "id": "5f385ebc",
   "metadata": {},
   "outputs": [],
   "source": [
    "query = \"exam and not resource\""
   ]
  },
  {
   "cell_type": "code",
   "execution_count": null,
   "id": "121ceff4",
   "metadata": {},
   "outputs": [],
   "source": []
  },
  {
   "cell_type": "code",
   "execution_count": null,
   "id": "df3fd713",
   "metadata": {},
   "outputs": [],
   "source": []
  },
  {
   "cell_type": "code",
   "execution_count": null,
   "id": "d73fd27f",
   "metadata": {},
   "outputs": [],
   "source": []
  }
 ],
 "metadata": {
  "kernelspec": {
   "display_name": "Python 3",
   "language": "python",
   "name": "python3"
  },
  "language_info": {
   "codemirror_mode": {
    "name": "ipython",
    "version": 3
   },
   "file_extension": ".py",
   "mimetype": "text/x-python",
   "name": "python",
   "nbconvert_exporter": "python",
   "pygments_lexer": "ipython3",
   "version": "3.8.8"
  }
 },
 "nbformat": 4,
 "nbformat_minor": 5
}
