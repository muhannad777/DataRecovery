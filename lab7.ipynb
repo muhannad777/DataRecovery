{
 "cells": [
  {
   "cell_type": "code",
   "execution_count": 1,
   "id": "691d01fd",
   "metadata": {},
   "outputs": [
    {
     "name": "stderr",
     "output_type": "stream",
     "text": [
      "[nltk_data] Downloading package stopwords to\n",
      "[nltk_data]     C:\\Users\\Nawal\\AppData\\Roaming\\nltk_data...\n",
      "[nltk_data]   Package stopwords is already up-to-date!\n",
      "[nltk_data] Downloading package punkt to\n",
      "[nltk_data]     C:\\Users\\Nawal\\AppData\\Roaming\\nltk_data...\n",
      "[nltk_data]   Package punkt is already up-to-date!\n"
     ]
    }
   ],
   "source": [
    "import pandas as pd \n",
    "import numpy as np \n",
    "import nltk \n",
    "nltk.download('stopwords') \n",
    "nltk.download('punkt')\n",
    "\n",
    "from nltk.corpus import stopwords \n",
    "from nltk.tokenize import word_tokenize \n",
    "from nltk.stem import PorterStemmer \n",
    "import os \n",
    "import string \n",
    "import copy \n",
    "import pickle"
   ]
  },
  {
   "cell_type": "code",
   "execution_count": 2,
   "id": "d3cb5903",
   "metadata": {},
   "outputs": [
    {
     "name": "stdout",
     "output_type": "stream",
     "text": [
      "C:\\Users\\Nawal\\Desktop\\recovery\\20_newsgroups\\alt.atheism\n"
     ]
    }
   ],
   "source": [
    "os.chdir(\"C:/Users/Nawal/Desktop/recovery/20_newsgroups\") \n",
    "paths = [] \n",
    "for (dirpath, dirnames, filenames) in os.walk(str(os.getcwd())): \n",
    "    for i in filenames:\n",
    "        paths.append(str(dirpath)+str(\"/\")+i)  \n",
    "\n",
    "print(dirpath)"
   ]
  },
  {
   "cell_type": "code",
   "execution_count": 3,
   "id": "6db6bc83",
   "metadata": {},
   "outputs": [
    {
     "data": {
      "text/plain": [
       "'C:\\\\Users\\\\Nawal\\\\Desktop\\\\recovery\\\\20_newsgroups\\\\alt.atheism/49960'"
      ]
     },
     "execution_count": 3,
     "metadata": {},
     "output_type": "execute_result"
    }
   ],
   "source": [
    "paths[0]"
   ]
  },
  {
   "cell_type": "code",
   "execution_count": 4,
   "id": "cb4f7793",
   "metadata": {},
   "outputs": [
    {
     "data": {
      "text/plain": [
       "1000"
      ]
     },
     "execution_count": 4,
     "metadata": {},
     "output_type": "execute_result"
    }
   ],
   "source": [
    "len(paths)"
   ]
  },
  {
   "cell_type": "code",
   "execution_count": 5,
   "id": "3aa4d2e8",
   "metadata": {},
   "outputs": [],
   "source": [
    "def remove_header(data): \n",
    "    try: \n",
    "        ind = data.index('\\n\\n') \n",
    "        data = data[ind:] \n",
    "    except: \n",
    "        print(\"No Header\") \n",
    "    return data \n",
    "\n",
    "def remove_apostrophe(data): \n",
    "    return np.char.replace(data, \"'\", \"\")\n",
    "\n",
    "def remove_single_characters(data): \n",
    "    words = word_tokenize(str(data)) \n",
    "    new_text = \"\" \n",
    "    for w in words: \n",
    "        if len(w) > 1: \n",
    "            new_text = new_text + \" \" + w \n",
    "    return np.char.strip(new_text)\n",
    "\n",
    "def convert_lower_case(data): \n",
    "    return np.char.lower(data)\n",
    "\n",
    "def stemming(data): \n",
    "    stemmer= PorterStemmer() \n",
    "     \n",
    "    tokens = word_tokenize(str(data)) \n",
    "    new_text = \"\" \n",
    "    for w in tokens: \n",
    "        new_text = new_text + \" \" + stemmer.stem(w) \n",
    "    return np.char.strip(new_text)\n",
    "\n",
    "def remove_punctuation(data): \n",
    "    symbols = \"!\\\"#$%&()*+-./:;<=>?@[\\]^_`{|}~\\n\" \n",
    "    for i in range(len(symbols)): \n",
    "        data = np.char.replace(data, symbols[i], ' ') \n",
    "        data = np.char.replace(data, \"  \", \" \") \n",
    "    data = np.char.replace(data, ',', '') \n",
    "    return data\n",
    "\n",
    "def remove_stop_words(data): \n",
    "    stop_words = stopwords.words('english') \n",
    "    words = word_tokenize(str(data)) \n",
    "    new_text = \"\" \n",
    "    for w in words: \n",
    "        if w not in stop_words: \n",
    "            new_text = new_text + \" \" + w \n",
    "    return np.char.strip(new_text)\n",
    "\n",
    "def convert_numbers(data): \n",
    "    data = np.char.replace(data, \"0\", \" zero \") \n",
    "    data = np.char.replace(data, \"1\", \" one \") \n",
    "    data = np.char.replace(data, \"2\", \" two \") \n",
    "    data = np.char.replace(data, \"3\", \" three \") \n",
    "    data = np.char.replace(data, \"4\", \" four \") \n",
    "    data = np.char.replace(data, \"5\", \" five \") \n",
    "    data = np.char.replace(data, \"6\", \" six \") \n",
    "    data = np.char.replace(data, \"7\", \" seven \") \n",
    "    data = np.char.replace(data, \"8\", \" eight \") \n",
    "    data = np.char.replace(data, \"9\", \" nine \") \n",
    "    return data\n",
    "\n"
   ]
  },
  {
   "cell_type": "code",
   "execution_count": 6,
   "id": "8126f80b",
   "metadata": {},
   "outputs": [],
   "source": [
    "def preprocess(data, query): \n",
    "    if not query: \n",
    "        data = remove_header(data) \n",
    "        data = convert_lower_case(data)\n",
    "        data = convert_numbers(data) \n",
    "        data = remove_punctuation(data)\n",
    "        data = remove_stop_words(data)\n",
    "        data = remove_apostrophe(data)\n",
    "        data = remove_single_characters(data)\n",
    "        data = stemming(data)\n",
    "     \n",
    "    return data"
   ]
  },
  {
   "cell_type": "code",
   "execution_count": 9,
   "id": "b29e9422",
   "metadata": {},
   "outputs": [
    {
     "name": "stdout",
     "output_type": "stream",
     "text": [
      "0\n",
      "100\n",
      "200\n",
      "300\n",
      "400\n",
      "500\n",
      "600\n",
      "700\n",
      "800\n",
      "No Header\n",
      "900\n"
     ]
    }
   ],
   "source": [
    "postings = pd.DataFrame() \n",
    "frequency = pd.DataFrame()\n",
    "doc = 0 \n",
    "    \n",
    "for path in paths: \n",
    "    file = open(path, 'r', encoding='cp1250') \n",
    "    text = file.read().strip() \n",
    "    file.close() \n",
    "    preprocessed_text = preprocess(text, False) \n",
    "    \n",
    "    if doc%100 == 0: \n",
    "        print(doc) \n",
    "    tokens = word_tokenize(str(preprocessed_text))\n",
    "    \n",
    "    pos = 0 \n",
    "    for token in tokens: \n",
    "        if token in postings: \n",
    "            p = postings[token][0] \n",
    "    \n",
    "            k = [a[0] for a in p] \n",
    "            if doc in k: \n",
    "                for a in p: \n",
    "                    if a[0] == doc: \n",
    "                        a[1].add(pos) \n",
    "            else: \n",
    "                p.append([doc,{pos}]) \n",
    "                frequency[token][0] += 1 \n",
    "        else: \n",
    "            postings.insert(value=[[[doc, {pos}]]],loc=0,   column=token) \n",
    "            frequency.insert(value=[1], loc=0, column=token) \n",
    "    \n",
    "        pos += 1 \n",
    "    doc += 1"
   ]
  },
  {
   "cell_type": "code",
   "execution_count": 17,
   "id": "d4876f5a",
   "metadata": {},
   "outputs": [
    {
     "data": {
      "text/html": [
       "<div>\n",
       "<style scoped>\n",
       "    .dataframe tbody tr th:only-of-type {\n",
       "        vertical-align: middle;\n",
       "    }\n",
       "\n",
       "    .dataframe tbody tr th {\n",
       "        vertical-align: top;\n",
       "    }\n",
       "\n",
       "    .dataframe thead th {\n",
       "        text-align: right;\n",
       "    }\n",
       "</style>\n",
       "<table border=\"1\" class=\"dataframe\">\n",
       "  <thead>\n",
       "    <tr style=\"text-align: right;\">\n",
       "      <th></th>\n",
       "      <th>kneel</th>\n",
       "      <th>hinduism</th>\n",
       "      <th>revert</th>\n",
       "      <th>infur</th>\n",
       "      <th>amok</th>\n",
       "      <th>trembl</th>\n",
       "      <th>portray</th>\n",
       "      <th>ingersol</th>\n",
       "      <th>mencken</th>\n",
       "      <th>voltair</th>\n",
       "      <th>...</th>\n",
       "      <th>nine</th>\n",
       "      <th>decemb</th>\n",
       "      <th>one</th>\n",
       "      <th>modifi</th>\n",
       "      <th>last</th>\n",
       "      <th>alt</th>\n",
       "      <th>resourc</th>\n",
       "      <th>atheism</th>\n",
       "      <th>name</th>\n",
       "      <th>archiv</th>\n",
       "    </tr>\n",
       "  </thead>\n",
       "  <tbody>\n",
       "    <tr>\n",
       "      <th>0</th>\n",
       "      <td>[[999, {117}]]</td>\n",
       "      <td>[[999, {107}]]</td>\n",
       "      <td>[[999, {98}]]</td>\n",
       "      <td>[[999, {81}]]</td>\n",
       "      <td>[[999, {60}]]</td>\n",
       "      <td>[[999, {54}]]</td>\n",
       "      <td>[[999, {53}]]</td>\n",
       "      <td>[[999, {45}]]</td>\n",
       "      <td>[[999, {43}]]</td>\n",
       "      <td>[[999, {42}]]</td>\n",
       "      <td>...</td>\n",
       "      <td>[[0, {256, 135, 1163, 15, 16, 1170, 1310, 1315...</td>\n",
       "      <td>[[0, {13}], [640, {16}], [656, {34}]]</td>\n",
       "      <td>[[0, {512, 388, 518, 391, 1162, 11, 12, 395, 1...</td>\n",
       "      <td>[[0, {10}], [1, {10}], [126, {172}], [203, {10...</td>\n",
       "      <td>[[0, {9}], [1, {9}], [83, {80, 79}], [94, {564...</td>\n",
       "      <td>[[0, {1380, 4}], [1, {4, 109, 78}], [36, {30}]...</td>\n",
       "      <td>[[0, {8, 3, 1368, 22}], [98, {44}], [203, {222...</td>\n",
       "      <td>[[0, {2, 898, 1381, 5, 910, 1038, 917, 1397, 8...</td>\n",
       "      <td>[[0, {1, 7}], [1, {1, 7}], [7, {84, 102}], [34...</td>\n",
       "      <td>[[0, {0, 1378, 6, 1389, 1372}], [1, {0, 6}], [...</td>\n",
       "    </tr>\n",
       "  </tbody>\n",
       "</table>\n",
       "<p>1 rows × 10349 columns</p>\n",
       "</div>"
      ],
      "text/plain": [
       "            kneel        hinduism         revert          infur  \\\n",
       "0  [[999, {117}]]  [[999, {107}]]  [[999, {98}]]  [[999, {81}]]   \n",
       "\n",
       "            amok         trembl        portray       ingersol        mencken  \\\n",
       "0  [[999, {60}]]  [[999, {54}]]  [[999, {53}]]  [[999, {45}]]  [[999, {43}]]   \n",
       "\n",
       "         voltair  ...                                               nine  \\\n",
       "0  [[999, {42}]]  ...  [[0, {256, 135, 1163, 15, 16, 1170, 1310, 1315...   \n",
       "\n",
       "                                  decemb  \\\n",
       "0  [[0, {13}], [640, {16}], [656, {34}]]   \n",
       "\n",
       "                                                 one  \\\n",
       "0  [[0, {512, 388, 518, 391, 1162, 11, 12, 395, 1...   \n",
       "\n",
       "                                              modifi  \\\n",
       "0  [[0, {10}], [1, {10}], [126, {172}], [203, {10...   \n",
       "\n",
       "                                                last  \\\n",
       "0  [[0, {9}], [1, {9}], [83, {80, 79}], [94, {564...   \n",
       "\n",
       "                                                 alt  \\\n",
       "0  [[0, {1380, 4}], [1, {4, 109, 78}], [36, {30}]...   \n",
       "\n",
       "                                             resourc  \\\n",
       "0  [[0, {8, 3, 1368, 22}], [98, {44}], [203, {222...   \n",
       "\n",
       "                                             atheism  \\\n",
       "0  [[0, {2, 898, 1381, 5, 910, 1038, 917, 1397, 8...   \n",
       "\n",
       "                                                name  \\\n",
       "0  [[0, {1, 7}], [1, {1, 7}], [7, {84, 102}], [34...   \n",
       "\n",
       "                                              archiv  \n",
       "0  [[0, {0, 1378, 6, 1389, 1372}], [1, {0, 6}], [...  \n",
       "\n",
       "[1 rows x 10349 columns]"
      ]
     },
     "execution_count": 17,
     "metadata": {},
     "output_type": "execute_result"
    }
   ],
   "source": [
    "postings"
   ]
  },
  {
   "cell_type": "code",
   "execution_count": 12,
   "id": "77f311bf",
   "metadata": {},
   "outputs": [],
   "source": [
    "postings.to_pickle(\"_positional_postings\") \n",
    "frequency.to_pickle(\"_positional_frequency\")"
   ]
  },
  {
   "cell_type": "code",
   "execution_count": 13,
   "id": "da2a7e71",
   "metadata": {},
   "outputs": [],
   "source": [
    "postings = pd.read_pickle( \"_positional_postings\") "
   ]
  },
  {
   "cell_type": "code",
   "execution_count": 14,
   "id": "b8d5f249",
   "metadata": {},
   "outputs": [],
   "source": [
    "frequency = pd.read_pickle(\"_positional_frequency\") "
   ]
  },
  {
   "cell_type": "code",
   "execution_count": 40,
   "id": "515db2bb",
   "metadata": {},
   "outputs": [],
   "source": [
    "def get_word_postings(word):\n",
    "    preprocessed_word = str(preprocess(word,True))\n",
    "    print(preprocessed_word)\n",
    "    print(\"Frequency:\",frequency[preprocessed_word][0])\n",
    "    print(\"Postings List:\",postings[preprocessed_word][0])\n",
    "    \n",
    "def get_positions(postings_value,doc):\n",
    "    for postings_value in posting_value:\n",
    "        if posting_value[0] == doc:\n",
    "            return posting_value[1]\n",
    "        return{}\n",
    "    \n",
    "def gen_init_set_matching(word):\n",
    "    init = []\n",
    "    word_postings = postings[word][0]\n",
    "    for word_postings in word_postings:\n",
    "        for positions in word_postings[1]:\n",
    "            init.append((word_positngs[0],positions))\n",
    "            return init\n",
    "        \n",
    "def match_positional_index(init,b):\n",
    "    matched_docs = []\n",
    "    for p in init:\n",
    "        doc= p[0]\n",
    "        pos= p[1]\n",
    "        count= 0\n",
    "        for k in b:\n",
    "            pos = pos+1\n",
    "            k_pos = postings[k][0]\n",
    "            docs_list = [z[0] for z in k_pos]\n",
    "            if doc in docs_list:\n",
    "                doc_positions = get_positions(k_pos,doc)\n",
    "                if pos in doc_positions:\n",
    "                    count+=1\n",
    "                else:\n",
    "                    count+=1\n",
    "                    break\n",
    "            if count == len(b):\n",
    "                matched_docs.append(p[0])\n",
    "    return set(matched_docs)\n",
    "\n",
    "def run_query(query):\n",
    "    processed_query = preprocess(query,True)\n",
    "    print(processed_query)\n",
    "    query_tokens = word_tokenize(str(processed_query))\n",
    "    print(query_tokens)\n",
    "\n",
    "    if len(query_tokens)==1:\n",
    "        print(\"Total Document Mathces\",[a[0]for a in postings[query][0]])\n",
    "        return [a[0]for a in postings[query][0]]\n",
    "    \n",
    "    init_word = query_tokens[0]\n",
    "    init_matches = gen_init_set_matching(init_word)\n",
    "\n",
    "    query_tokens.pop(0)\n",
    "    total_matched_docs = match_positional_index(init_matches, query_tokens)\n",
    "    print(\"Total Document Matches:\",total_matched_docs)\n",
    "    return total_matched_docs"
   ]
  },
  {
   "cell_type": "code",
   "execution_count": 27,
   "id": "6d7ae489",
   "metadata": {},
   "outputs": [
    {
     "name": "stdout",
     "output_type": "stream",
     "text": [
      "hello\n",
      "Frequency: 3\n",
      "Postings List: [[236, {17}], [313, {17}], [697, {0}]]\n"
     ]
    }
   ],
   "source": [
    "get_word_postings(\"hello\")"
   ]
  }
 ],
 "metadata": {
  "kernelspec": {
   "display_name": "Python 3",
   "language": "python",
   "name": "python3"
  },
  "language_info": {
   "codemirror_mode": {
    "name": "ipython",
    "version": 3
   },
   "file_extension": ".py",
   "mimetype": "text/x-python",
   "name": "python",
   "nbconvert_exporter": "python",
   "pygments_lexer": "ipython3",
   "version": "3.8.8"
  }
 },
 "nbformat": 4,
 "nbformat_minor": 5
}
